{
 "cells": [
  {
   "cell_type": "code",
   "execution_count": 1,
   "metadata": {},
   "outputs": [],
   "source": [
    "from loader import Loader\n",
    "from parcellation import AAL\n",
    "from measures.correlation import CorrelationBasedBrainNetwork\n",
    "from measures.covariance import CovarianceBasedBrainNetwork\n",
    "from measures.causality import GrangerCausalityBasedBrainNetwork\n",
    "from statsmodels.tsa.stattools import grangercausalitytests\n",
    "from itertools import combinations\n",
    "import random\n",
    "import plotly.graph_objects as go\n",
    "from plotly.subplots import make_subplots\n",
    "from IPython.display import clear_output\n",
    "import numpy as np\n",
    "from graph import AssociationGraph\n",
    "import igraph\n",
    "import numpy as np\n",
    "import igraph as ig\n",
    "import dionysus as d\n",
    "import multiprocessing\n",
    "import networkx as nx\n",
    "import dill\n",
    "import pandas as pd\n",
    "from math import ceil\n",
    "import igraph as ig"
   ]
  },
  {
   "cell_type": "code",
   "execution_count": 2,
   "metadata": {},
   "outputs": [],
   "source": [
    "group = 'SCZ'\n",
    "modality = 'BOLD'\n",
    "task = 'task001_run001'\n",
    "kind = 'bold_mcf_brain'"
   ]
  },
  {
   "cell_type": "code",
   "execution_count": 3,
   "metadata": {},
   "outputs": [],
   "source": [
    "agent = Loader()\n",
    "data = agent.filter_data(group=group, modality=modality, task=task, kind=kind)\n",
    "agent = AAL(data)\n",
    "parcellation_results = agent.parcellate()"
   ]
  },
  {
   "cell_type": "code",
   "execution_count": 4,
   "metadata": {},
   "outputs": [],
   "source": [
    "subject, coords = parcellation_results['sub001']"
   ]
  },
  {
   "cell_type": "code",
   "execution_count": 5,
   "metadata": {},
   "outputs": [],
   "source": [
    "class TemporalLabelling:\n",
    "\n",
    "    def __init__(\n",
    "            self, \n",
    "            time_series, \n",
    "            coordinates,\n",
    "            resolution, \n",
    "            overlap, \n",
    "            kind='positive', \n",
    "            threshold=80, \n",
    "            method='correlation'\n",
    "            ):\n",
    "        \n",
    "        self.timeseries = time_series\n",
    "        self.coordinates = coordinates\n",
    "        self.resolution = resolution\n",
    "        self.overlap = overlap\n",
    "        self.kind = kind\n",
    "        self.threshold = threshold\n",
    "        self.method = self.__switch(method=method)\n",
    "    \n",
    "    @staticmethod\n",
    "    def __switch(method):\n",
    "        if method == 'correlation':\n",
    "            return CorrelationBasedBrainNetwork\n",
    "        if method == 'covariance':\n",
    "            return CovarianceBasedBrainNetwork\n",
    "        if method == 'causal':\n",
    "            return GrangerCausalityBasedBrainNetwork\n",
    "    \n",
    "    @staticmethod\n",
    "    def __partition_dataframe(df, window_size, overlap_size):\n",
    "        step = window_size - overlap_size\n",
    "        return [df.iloc[i:i + window_size] for i in range(0, len(df), step)]\n",
    "    \n",
    "    @staticmethod\n",
    "    def __combine_networkx_graphs(graphs):\n",
    "        combined_graph = nx.MultiGraph()\n",
    "\n",
    "        for g in graphs:\n",
    "            combined_graph.add_nodes_from(g.nodes(data=True))\n",
    "\n",
    "        for g in graphs:\n",
    "            for u, v, data in g.edges(data=True):\n",
    "                combined_graph.add_edge(u, v, **data)\n",
    "\n",
    "        return combined_graph\n",
    "    \n",
    "    def __preprocess(self, adjacency_matrix):\n",
    "\n",
    "        node_names, adjacency_matrix = adjacency_matrix.columns, adjacency_matrix.values\n",
    "        \n",
    "        if self.kind == 'positive':\n",
    "            adjacency_matrix = np.where(adjacency_matrix > 0, adjacency_matrix, 0)\n",
    "        else:\n",
    "            adjacency_matrix = np.where(adjacency_matrix < 0, adjacency_matrix, 0)\n",
    "        \n",
    "        edge_weights = adjacency_matrix[np.triu_indices(adjacency_matrix.shape[0])]\n",
    "        threshold = np.percentile(edge_weights, self.threshold)\n",
    "\n",
    "        adjacency_matrix = np.where(adjacency_matrix >= threshold, adjacency_matrix, 0)\n",
    "        \n",
    "        adjacency_matrix = pd.DataFrame(\n",
    "            adjacency_matrix, \n",
    "            columns=node_names, \n",
    "            index=node_names\n",
    "            )\n",
    "        \n",
    "        return adjacency_matrix\n",
    "\n",
    "    def partition_data(self):\n",
    "\n",
    "        partitions = self.__partition_dataframe(\n",
    "            self.timeseries,\n",
    "            self.resolution,\n",
    "            self.overlap\n",
    "        )\n",
    "        partitions = [\n",
    "            self.method(partition, sparsify=True).generate_connectivity_matrix() \n",
    "            for partition in partitions\n",
    "            ]\n",
    "        partitions = [\n",
    "            AssociationGraph(timestep, self.__preprocess(partition), self.coordinates).create_graph()\n",
    "            for timestep, partition in enumerate(partitions)\n",
    "        ]\n",
    "\n",
    "        brain_network = self.__combine_networkx_graphs(partitions)\n",
    "        \n",
    "        return brain_network"
   ]
  },
  {
   "cell_type": "code",
   "execution_count": 6,
   "metadata": {},
   "outputs": [],
   "source": [
    "a = TemporalLabelling(subject, coords, 30, 15)"
   ]
  },
  {
   "cell_type": "code",
   "execution_count": 7,
   "metadata": {},
   "outputs": [],
   "source": [
    "g = a.partition_data()"
   ]
  },
  {
   "cell_type": "code",
   "execution_count": 16,
   "metadata": {},
   "outputs": [],
   "source": [
    "class SlidingWindows:\n",
    "\n",
    "    def __init__(self, graph):\n",
    "        self.graph = self.__convert_to_igraph(graph)\n",
    "\n",
    "    @staticmethod\n",
    "    def __convert_to_igraph(graph):\n",
    "        graph = ig.Graph.from_networkx(graph)\n",
    "        graph.vs[\"name\"] = graph.vs[\"_nx_name\"]\n",
    "        del(graph.vs[\"_nx_name\"])\n",
    "        return graph\n",
    "    \n",
    "    def generate(self, partition_count, overlap):\n",
    "        times = np.array(self.graph.es[\"time\"])\n",
    "        resolution = 1 / partition_count\n",
    "        duration = round((resolution) * (times.max() - times.min()), 1)\n",
    "        windows = []\n",
    "        for i in range(int(1 / resolution)):\n",
    "            edges = self.graph.es.select(time_gt=times.min() + duration*i - overlap,\n",
    "                                time_lt=times.min() + duration*(i+1))\n",
    "            windows.append(self.graph.subgraph_edges(edges))\n",
    "        return windows"
   ]
  },
  {
   "cell_type": "code",
   "execution_count": 22,
   "metadata": {},
   "outputs": [],
   "source": [
    "windows = SlidingWindows(g).generate(5, 1)"
   ]
  },
  {
   "cell_type": "code",
   "execution_count": 23,
   "metadata": {},
   "outputs": [],
   "source": [
    "def max_simplicial_complex(g):\n",
    "    \"\"\"Return the maximal simplicial complex of a network g.\"\"\"\n",
    "    return d.Filtration(g.maximal_cliques())"
   ]
  },
  {
   "cell_type": "code",
   "execution_count": 24,
   "metadata": {},
   "outputs": [],
   "source": [
    "def find_transitions(a):\n",
    "    \"\"\"Find the transition times in an array of presence times.\"\"\"\n",
    "    res = []\n",
    "    prev = False\n",
    "    for i, cur in enumerate(a):\n",
    "        if cur != prev:\n",
    "            res.append(i)\n",
    "        prev = cur\n",
    "    return res"
   ]
  },
  {
   "cell_type": "code",
   "execution_count": 25,
   "metadata": {},
   "outputs": [],
   "source": [
    "def presence_times(g):\n",
    "    \"\"\"Compute the data required to compute zigzag persistence:\n",
    "    simplicial complex and transition times.\n",
    "    :param g: igraph Graph\n",
    "    :return: a tuple with the maximum simplicial complex and the\n",
    "    transition times of each simplex.\"\"\"\n",
    "    max_simplicial_complex = d.Filtration(g.cliques())\n",
    "    filts = []\n",
    "    for t in np.sort(np.unique(g.es[\"time\"])):\n",
    "        edges = g.es.select(time_eq=t)\n",
    "        cliques = g.subgraph_edges(edges).cliques()\n",
    "        filts.append(d.Filtration(cliques))\n",
    "    presences = [[s in filt for filt in filts] for s in max_simplicial_complex]\n",
    "    presences = [find_transitions(p) for p in presences]\n",
    "    return (max_simplicial_complex, presences)"
   ]
  },
  {
   "cell_type": "code",
   "execution_count": 26,
   "metadata": {},
   "outputs": [],
   "source": [
    "def zigzag_network(g):\n",
    "    \"\"\"Compute zigzag persistence on a temporal network.\n",
    "    :param g: igraph Graph\n",
    "    :return: a list of persistence diagrams.\n",
    "    \"\"\"\n",
    "    (f, t) = presence_times(g)\n",
    "    _, dgms, _ = d.zigzag_homology_persistence(f, t)\n",
    "    return dgms"
   ]
  },
  {
   "cell_type": "code",
   "execution_count": 27,
   "metadata": {},
   "outputs": [],
   "source": [
    "pool = multiprocessing.Pool(processes=multiprocessing.cpu_count())"
   ]
  },
  {
   "cell_type": "code",
   "execution_count": null,
   "metadata": {},
   "outputs": [
    {
     "name": "stdout",
     "output_type": "stream",
     "text": [
      "Zigzag persistence..."
     ]
    }
   ],
   "source": [
    "print(\"Zigzag persistence...\", end=\"\", flush=True)\n",
    "zz_dgms = pool.map(zigzag_network, windows)\n",
    "dill.dump(zz_dgms, open(\"generative/zz_dgms.dill\", \"wb\"))\n",
    "print(\"done, saved.\")"
   ]
  },
  {
   "cell_type": "code",
   "execution_count": null,
   "metadata": {},
   "outputs": [],
   "source": []
  }
 ],
 "metadata": {
  "kernelspec": {
   "display_name": "venv",
   "language": "python",
   "name": "python3"
  },
  "language_info": {
   "codemirror_mode": {
    "name": "ipython",
    "version": 3
   },
   "file_extension": ".py",
   "mimetype": "text/x-python",
   "name": "python",
   "nbconvert_exporter": "python",
   "pygments_lexer": "ipython3",
   "version": "3.8.10"
  }
 },
 "nbformat": 4,
 "nbformat_minor": 2
}
