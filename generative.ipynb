{
 "cells": [
  {
   "cell_type": "code",
   "execution_count": 1,
   "metadata": {},
   "outputs": [],
   "source": [
    "import numpy as np\n",
    "import igraph as ig\n",
    "import dionysus as d\n",
    "import multiprocessing\n",
    "# from dask.distributed import Client\n",
    "from zigzag import sliding_windows, zigzag_network\n",
    "from wrcf import wrcf_diagram\n",
    "from sliced_wasserstein import diagram_array, SW_approx\n",
    "import dill"
   ]
  },
  {
   "cell_type": "code",
   "execution_count": 12,
   "metadata": {},
   "outputs": [],
   "source": [
    "def random_edge_presences(T, f):\n",
    "    \"\"\"Generate random times sampled over a periodic distribution.\n",
    "    :param T: time range\n",
    "    :param f: frequency\n",
    "    :return: an array of times.\n",
    "    \"\"\"\n",
    "    density = np.sin(f * np.arange(T)) + 1\n",
    "    density /= np.sum(density)\n",
    "    samplesize = np.random.randint(T//2)\n",
    "    times = np.random.choice(np.arange(T), size=samplesize, replace=False, p=density)\n",
    "    times = np.sort(times)\n",
    "    return times, density, samplesize"
   ]
  },
  {
   "cell_type": "code",
   "execution_count": 17,
   "metadata": {},
   "outputs": [],
   "source": [
    "a = random_edge_presences(200, 15/200)"
   ]
  },
  {
   "cell_type": "code",
   "execution_count": 18,
   "metadata": {},
   "outputs": [
    {
     "data": {
      "text/plain": [
       "48"
      ]
     },
     "execution_count": 18,
     "metadata": {},
     "output_type": "execute_result"
    }
   ],
   "source": [
    "a[-1]"
   ]
  },
  {
   "cell_type": "code",
   "execution_count": 19,
   "metadata": {},
   "outputs": [
    {
     "data": {
      "text/plain": [
       "array([  0,   1,   3,   5,  11,  14,  15,  16,  20,  22,  25,  27,  29,\n",
       "        31,  39,  43,  50,  72,  87,  92,  93,  95,  98,  99, 101, 104,\n",
       "       111, 112, 114, 115, 116, 118, 120, 130, 160, 161, 172, 176, 177,\n",
       "       182, 183, 184, 185, 187, 190, 193, 196, 198])"
      ]
     },
     "execution_count": 19,
     "metadata": {},
     "output_type": "execute_result"
    }
   ],
   "source": [
    "a[0]"
   ]
  },
  {
   "cell_type": "code",
   "execution_count": 3,
   "metadata": {},
   "outputs": [],
   "source": [
    "def remove_inf(dgm):\n",
    "    \"\"\"Remove infinite points in a persistence diagram.\n",
    "    :param dgm: Diagram\n",
    "    :return: the same diagram without the infinite points.\n",
    "    \"\"\"\n",
    "    res = d.Diagram()\n",
    "    for p in dgm:\n",
    "        if p.death != np.inf:\n",
    "            res.append(p)\n",
    "    return res"
   ]
  },
  {
   "cell_type": "code",
   "execution_count": 4,
   "metadata": {},
   "outputs": [],
   "source": [
    "## Global parameters\n",
    "NODES = 40\n",
    "EDGE_PROB = 0.9\n",
    "TIME_RANGE = 200\n",
    "FREQ = 15/TIME_RANGE\n",
    "N_WINDOWS = 20\n",
    "## Computations\n",
    "ZIGZAG_PERS = True\n",
    "WRCF_PERS = True\n",
    "SW_KERNEL = True\n",
    "BOTTLENECK_DIST = True"
   ]
  },
  {
   "cell_type": "code",
   "execution_count": 5,
   "metadata": {},
   "outputs": [
    {
     "name": "stdout",
     "output_type": "stream",
     "text": [
      "done.\n"
     ]
    }
   ],
   "source": [
    "basegraph = ig.Graph.Erdos_Renyi(NODES, EDGE_PROB)\n",
    "g = ig.Graph()\n",
    "g.add_vertices(len(basegraph.vs))\n",
    "\n",
    "for e in basegraph.es:\n",
    "    times = random_edge_presences(TIME_RANGE, FREQ)\n",
    "    for t in times:\n",
    "        g.add_edge(e.source, e.target, time=t)\n",
    "print(\"done.\")"
   ]
  },
  {
   "cell_type": "code",
   "execution_count": 21,
   "metadata": {},
   "outputs": [
    {
     "data": {
      "text/plain": [
       "19270"
      ]
     },
     "execution_count": 21,
     "metadata": {},
     "output_type": "execute_result"
    }
   ],
   "source": [
    "sum(g.get_edge_dataframe()['time'].unique())"
   ]
  },
  {
   "cell_type": "code",
   "execution_count": null,
   "metadata": {},
   "outputs": [],
   "source": []
  }
 ],
 "metadata": {
  "kernelspec": {
   "display_name": "venv",
   "language": "python",
   "name": "python3"
  },
  "language_info": {
   "codemirror_mode": {
    "name": "ipython",
    "version": 3
   },
   "file_extension": ".py",
   "mimetype": "text/x-python",
   "name": "python",
   "nbconvert_exporter": "python",
   "pygments_lexer": "ipython3",
   "version": "3.8.10"
  }
 },
 "nbformat": 4,
 "nbformat_minor": 2
}
