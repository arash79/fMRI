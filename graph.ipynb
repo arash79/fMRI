{
 "cells": [
  {
   "cell_type": "code",
   "execution_count": 1,
   "metadata": {},
   "outputs": [],
   "source": [
    "import numpy as np\n",
    "import igraph as ig\n",
    "import dionysus as d\n",
    "import multiprocessing\n",
    "# from dask.distributed import Client\n",
    "from zigzag import sliding_windows, zigzag_network\n",
    "from wrcf import wrcf_diagram\n",
    "from sliced_wasserstein import diagram_array, SW_approx\n",
    "import dill"
   ]
  },
  {
   "cell_type": "code",
   "execution_count": 2,
   "metadata": {},
   "outputs": [],
   "source": [
    "def random_edge_presences(T, f):\n",
    "    \"\"\"Generate random times sampled over a periodic distribution.\n",
    "    :param T: time range\n",
    "    :param f: frequency\n",
    "    :return: an array of times.\n",
    "    \"\"\"\n",
    "    density = np.sin(f * np.arange(T)) + 1\n",
    "    density /= np.sum(density)\n",
    "    samplesize = np.random.randint(T//2)\n",
    "    times = np.random.choice(np.arange(T), size=samplesize, replace=False, p=density)\n",
    "    times = np.sort(times)\n",
    "    return times"
   ]
  },
  {
   "cell_type": "code",
   "execution_count": 3,
   "metadata": {},
   "outputs": [],
   "source": [
    "def remove_inf(dgm):\n",
    "    \"\"\"Remove infinite points in a persistence diagram.\n",
    "    :param dgm: Diagram\n",
    "    :return: the same diagram without the infinite points.\n",
    "    \"\"\"\n",
    "    res = d.Diagram()\n",
    "    for p in dgm:\n",
    "        if p.death != np.inf:\n",
    "            res.append(p)\n",
    "    return res"
   ]
  },
  {
   "cell_type": "code",
   "execution_count": 4,
   "metadata": {},
   "outputs": [],
   "source": [
    "## Global parameters\n",
    "NODES = 40\n",
    "EDGE_PROB = 0.9\n",
    "TIME_RANGE = 200\n",
    "FREQ = 15/TIME_RANGE\n",
    "N_WINDOWS = 20\n",
    "## Computations\n",
    "ZIGZAG_PERS = True\n",
    "WRCF_PERS = True\n",
    "SW_KERNEL = True\n",
    "BOTTLENECK_DIST = True"
   ]
  },
  {
   "cell_type": "code",
   "execution_count": 45,
   "metadata": {},
   "outputs": [
    {
     "name": "stdout",
     "output_type": "stream",
     "text": [
      "Generating random temporal network...done.\n"
     ]
    }
   ],
   "source": [
    "print(\"Generating random temporal network...\", end=\"\", flush=True)\n",
    "\n",
    "basegraph = ig.Graph.Erdos_Renyi(NODES, EDGE_PROB)\n",
    "g = ig.Graph()\n",
    "g.add_vertices(len(basegraph.vs))\n",
    "\n",
    "for e in basegraph.es:\n",
    "    times = random_edge_presences(TIME_RANGE, FREQ)\n",
    "    for t in times:\n",
    "        g.add_edge(e.source, e.target, time=t)\n",
    "print(\"done.\")"
   ]
  },
  {
   "cell_type": "code",
   "execution_count": 46,
   "metadata": {},
   "outputs": [],
   "source": [
    "df = g.get_edge_dataframe()"
   ]
  },
  {
   "cell_type": "code",
   "execution_count": 48,
   "metadata": {},
   "outputs": [
    {
     "data": {
      "text/plain": [
       "False"
      ]
     },
     "execution_count": 48,
     "metadata": {},
     "output_type": "execute_result"
    }
   ],
   "source": [
    "g.is_directed()"
   ]
  },
  {
   "cell_type": "code",
   "execution_count": 47,
   "metadata": {},
   "outputs": [
    {
     "data": {
      "text/html": [
       "<div>\n",
       "<style scoped>\n",
       "    .dataframe tbody tr th:only-of-type {\n",
       "        vertical-align: middle;\n",
       "    }\n",
       "\n",
       "    .dataframe tbody tr th {\n",
       "        vertical-align: top;\n",
       "    }\n",
       "\n",
       "    .dataframe thead th {\n",
       "        text-align: right;\n",
       "    }\n",
       "</style>\n",
       "<table border=\"1\" class=\"dataframe\">\n",
       "  <thead>\n",
       "    <tr style=\"text-align: right;\">\n",
       "      <th></th>\n",
       "      <th>source</th>\n",
       "      <th>target</th>\n",
       "      <th>time</th>\n",
       "    </tr>\n",
       "    <tr>\n",
       "      <th>edge ID</th>\n",
       "      <th></th>\n",
       "      <th></th>\n",
       "      <th></th>\n",
       "    </tr>\n",
       "  </thead>\n",
       "  <tbody>\n",
       "    <tr>\n",
       "      <th>58</th>\n",
       "      <td>1</td>\n",
       "      <td>2</td>\n",
       "      <td>15</td>\n",
       "    </tr>\n",
       "    <tr>\n",
       "      <th>155</th>\n",
       "      <td>1</td>\n",
       "      <td>3</td>\n",
       "      <td>15</td>\n",
       "    </tr>\n",
       "    <tr>\n",
       "      <th>451</th>\n",
       "      <td>1</td>\n",
       "      <td>5</td>\n",
       "      <td>15</td>\n",
       "    </tr>\n",
       "    <tr>\n",
       "      <th>656</th>\n",
       "      <td>0</td>\n",
       "      <td>6</td>\n",
       "      <td>15</td>\n",
       "    </tr>\n",
       "    <tr>\n",
       "      <th>712</th>\n",
       "      <td>3</td>\n",
       "      <td>6</td>\n",
       "      <td>15</td>\n",
       "    </tr>\n",
       "    <tr>\n",
       "      <th>...</th>\n",
       "      <td>...</td>\n",
       "      <td>...</td>\n",
       "      <td>...</td>\n",
       "    </tr>\n",
       "    <tr>\n",
       "      <th>32522</th>\n",
       "      <td>24</td>\n",
       "      <td>39</td>\n",
       "      <td>15</td>\n",
       "    </tr>\n",
       "    <tr>\n",
       "      <th>32564</th>\n",
       "      <td>25</td>\n",
       "      <td>39</td>\n",
       "      <td>15</td>\n",
       "    </tr>\n",
       "    <tr>\n",
       "      <th>32619</th>\n",
       "      <td>26</td>\n",
       "      <td>39</td>\n",
       "      <td>15</td>\n",
       "    </tr>\n",
       "    <tr>\n",
       "      <th>32689</th>\n",
       "      <td>27</td>\n",
       "      <td>39</td>\n",
       "      <td>15</td>\n",
       "    </tr>\n",
       "    <tr>\n",
       "      <th>32800</th>\n",
       "      <td>29</td>\n",
       "      <td>39</td>\n",
       "      <td>15</td>\n",
       "    </tr>\n",
       "  </tbody>\n",
       "</table>\n",
       "<p>274 rows × 3 columns</p>\n",
       "</div>"
      ],
      "text/plain": [
       "         source  target  time\n",
       "edge ID                      \n",
       "58            1       2    15\n",
       "155           1       3    15\n",
       "451           1       5    15\n",
       "656           0       6    15\n",
       "712           3       6    15\n",
       "...         ...     ...   ...\n",
       "32522        24      39    15\n",
       "32564        25      39    15\n",
       "32619        26      39    15\n",
       "32689        27      39    15\n",
       "32800        29      39    15\n",
       "\n",
       "[274 rows x 3 columns]"
      ]
     },
     "execution_count": 47,
     "metadata": {},
     "output_type": "execute_result"
    }
   ],
   "source": [
    "df[df['time'] == 15]"
   ]
  },
  {
   "cell_type": "code",
   "execution_count": 37,
   "metadata": {},
   "outputs": [],
   "source": [
    "gg = ig.disjoint_union([g1, g2])"
   ]
  },
  {
   "cell_type": "code",
   "execution_count": 38,
   "metadata": {},
   "outputs": [
    {
     "data": {
      "image/svg+xml": [
       "<?xml version=\"1.0\" encoding=\"UTF-8\"?>\n",
       "<svg xmlns=\"http://www.w3.org/2000/svg\" xmlns:xlink=\"http://www.w3.org/1999/xlink\" width=\"600pt\" height=\"600pt\" viewBox=\"0 0 600 600\" version=\"1.1\">\n",
       "<g id=\"surface38\">\n",
       "<rect x=\"0\" y=\"0\" width=\"600\" height=\"600\" style=\"fill:rgb(100%,100%,100%);fill-opacity:1;stroke:none;\"/>\n",
       "<path style=\"fill:none;stroke-width:1;stroke-linecap:butt;stroke-linejoin:miter;stroke:rgb(26.666667%,26.666667%,26.666667%);stroke-opacity:1;stroke-miterlimit:10;\" d=\"M 158.285156 20 L 73.71875 169.953125 \"/>\n",
       "<path style=\"fill:none;stroke-width:1;stroke-linecap:butt;stroke-linejoin:miter;stroke:rgb(26.666667%,26.666667%,26.666667%);stroke-opacity:1;stroke-miterlimit:10;\" d=\"M 73.71875 169.953125 L 20 329.628906 \"/>\n",
       "<path style=\"fill:none;stroke-width:1;stroke-linecap:butt;stroke-linejoin:miter;stroke:rgb(26.666667%,26.666667%,26.666667%);stroke-opacity:1;stroke-miterlimit:10;\" d=\"M 570.832031 411.476562 L 580 245.257812 \"/>\n",
       "<path style=\"fill:none;stroke-width:1;stroke-linecap:butt;stroke-linejoin:miter;stroke:rgb(26.666667%,26.666667%,26.666667%);stroke-opacity:1;stroke-miterlimit:10;\" d=\"M 580 245.257812 L 556.367188 79.171875 \"/>\n",
       "<path style=\"fill-rule:nonzero;fill:rgb(100%,0%,0%);fill-opacity:1;stroke-width:1;stroke-linecap:butt;stroke-linejoin:miter;stroke:rgb(0%,0%,0%);stroke-opacity:1;stroke-miterlimit:10;\" d=\"M 168.285156 20 C 168.285156 25.523438 163.808594 30 158.285156 30 C 152.761719 30 148.285156 25.523438 148.285156 20 C 148.285156 14.476562 152.761719 10 158.285156 10 C 163.808594 10 168.285156 14.476562 168.285156 20 \"/>\n",
       "<path style=\"fill-rule:nonzero;fill:rgb(100%,0%,0%);fill-opacity:1;stroke-width:1;stroke-linecap:butt;stroke-linejoin:miter;stroke:rgb(0%,0%,0%);stroke-opacity:1;stroke-miterlimit:10;\" d=\"M 83.71875 169.953125 C 83.71875 175.476562 79.238281 179.953125 73.71875 179.953125 C 68.195312 179.953125 63.71875 175.476562 63.71875 169.953125 C 63.71875 164.429688 68.195312 159.953125 73.71875 159.953125 C 79.238281 159.953125 83.71875 164.429688 83.71875 169.953125 \"/>\n",
       "<path style=\"fill-rule:nonzero;fill:rgb(100%,0%,0%);fill-opacity:1;stroke-width:1;stroke-linecap:butt;stroke-linejoin:miter;stroke:rgb(0%,0%,0%);stroke-opacity:1;stroke-miterlimit:10;\" d=\"M 30 329.628906 C 30 335.148438 25.523438 339.628906 20 339.628906 C 14.476562 339.628906 10 335.148438 10 329.628906 C 10 324.105469 14.476562 319.628906 20 319.628906 C 25.523438 319.628906 30 324.105469 30 329.628906 \"/>\n",
       "<path style=\"fill-rule:nonzero;fill:rgb(100%,0%,0%);fill-opacity:1;stroke-width:1;stroke-linecap:butt;stroke-linejoin:miter;stroke:rgb(0%,0%,0%);stroke-opacity:1;stroke-miterlimit:10;\" d=\"M 580.832031 411.476562 C 580.832031 416.996094 576.355469 421.476562 570.832031 421.476562 C 565.308594 421.476562 560.832031 416.996094 560.832031 411.476562 C 560.832031 405.953125 565.308594 401.476562 570.832031 401.476562 C 576.355469 401.476562 580.832031 405.953125 580.832031 411.476562 \"/>\n",
       "<path style=\"fill-rule:nonzero;fill:rgb(100%,0%,0%);fill-opacity:1;stroke-width:1;stroke-linecap:butt;stroke-linejoin:miter;stroke:rgb(0%,0%,0%);stroke-opacity:1;stroke-miterlimit:10;\" d=\"M 590 245.257812 C 590 250.78125 585.523438 255.257812 580 255.257812 C 574.476562 255.257812 570 250.78125 570 245.257812 C 570 239.734375 574.476562 235.257812 580 235.257812 C 585.523438 235.257812 590 239.734375 590 245.257812 \"/>\n",
       "<path style=\"fill-rule:nonzero;fill:rgb(100%,0%,0%);fill-opacity:1;stroke-width:1;stroke-linecap:butt;stroke-linejoin:miter;stroke:rgb(0%,0%,0%);stroke-opacity:1;stroke-miterlimit:10;\" d=\"M 265.027344 580 C 265.027344 585.523438 260.550781 590 255.027344 590 C 249.503906 590 245.027344 585.523438 245.027344 580 C 245.027344 574.476562 249.503906 570 255.027344 570 C 260.550781 570 265.027344 574.476562 265.027344 580 \"/>\n",
       "<path style=\"fill-rule:nonzero;fill:rgb(100%,0%,0%);fill-opacity:1;stroke-width:1;stroke-linecap:butt;stroke-linejoin:miter;stroke:rgb(0%,0%,0%);stroke-opacity:1;stroke-miterlimit:10;\" d=\"M 566.367188 79.171875 C 566.367188 84.695312 561.890625 89.171875 556.367188 89.171875 C 550.84375 89.171875 546.367188 84.695312 546.367188 79.171875 C 546.367188 73.648438 550.84375 69.171875 556.367188 69.171875 C 561.890625 69.171875 566.367188 73.648438 566.367188 79.171875 \"/>\n",
       "</g>\n",
       "</svg>\n"
      ],
      "text/plain": [
       "<igraph.drawing.cairo.plot.CairoPlot at 0x7f396f3d1c10>"
      ]
     },
     "execution_count": 38,
     "metadata": {
      "image/svg+xml": {
       "isolated": true
      }
     },
     "output_type": "execute_result"
    }
   ],
   "source": [
    "ig.plot(gg)"
   ]
  },
  {
   "cell_type": "code",
   "execution_count": 31,
   "metadata": {},
   "outputs": [],
   "source": [
    "from igraph import Graph\n",
    "\n",
    "# Create some sample graphs with vertex names\n",
    "g1 = Graph(edges=[(0, 1), (1, 2)], directed=False)\n",
    "g1.vs[\"name\"] = [\"A\", \"B\", \"C\"]\n",
    "\n",
    "g2 = Graph(edges=[(0, 1), (1, 3)], directed=False)\n",
    "g2.vs[\"name\"] = [\"B\", \"C\", \"D\"]\n",
    "\n",
    "g3 = Graph(edges=[(0, 2), (2, 3)], directed=False)\n",
    "g3.vs[\"name\"] = [\"A\", \"D\", \"E\"]\n",
    "\n",
    "# Combine the graphs with disjoint union\n",
    "combined_graph = Graph.disjoint_union(g1, g2)\n",
    "\n",
    "# Find the indices of vertices with the same names\n",
    "# vertex_names = combined_graph.vs[\"name\"]\n",
    "# unique_names = list(set(vertex_names))\n",
    "# name_to_index = {name: [] for name in unique_names}\n",
    "\n",
    "\n",
    "# Map names to their respective indices\n",
    "# for idx, name in enumerate(vertex_names):\n",
    "#     name_to_index[name].append(idx)\n",
    "\n",
    "\n",
    "# Contract vertices with the same name\n",
    "# for name, indices in name_to_index.items():\n",
    "#     if len(indices) > 1:\n",
    "#         combined_graph.contract_vertices(indices, combine_attrs=\"first\")\n",
    "\n",
    "\n",
    "# Simplify the graph to remove duplicate edges (if needed)\n",
    "# combined_graph.simplify(multiple=True, loops=False)\n",
    "\n",
    "# # Inspect the combined graph\n",
    "# print(\"Vertex names:\", combined_graph.vs[\"name\"])\n",
    "# print(\"Edges:\", combined_graph.get_edgelist())"
   ]
  },
  {
   "cell_type": "code",
   "execution_count": 34,
   "metadata": {},
   "outputs": [
    {
     "data": {
      "text/html": [
       "<div>\n",
       "<style scoped>\n",
       "    .dataframe tbody tr th:only-of-type {\n",
       "        vertical-align: middle;\n",
       "    }\n",
       "\n",
       "    .dataframe tbody tr th {\n",
       "        vertical-align: top;\n",
       "    }\n",
       "\n",
       "    .dataframe thead th {\n",
       "        text-align: right;\n",
       "    }\n",
       "</style>\n",
       "<table border=\"1\" class=\"dataframe\">\n",
       "  <thead>\n",
       "    <tr style=\"text-align: right;\">\n",
       "      <th></th>\n",
       "      <th>source</th>\n",
       "      <th>target</th>\n",
       "    </tr>\n",
       "    <tr>\n",
       "      <th>edge ID</th>\n",
       "      <th></th>\n",
       "      <th></th>\n",
       "    </tr>\n",
       "  </thead>\n",
       "  <tbody>\n",
       "    <tr>\n",
       "      <th>0</th>\n",
       "      <td>0</td>\n",
       "      <td>1</td>\n",
       "    </tr>\n",
       "    <tr>\n",
       "      <th>1</th>\n",
       "      <td>1</td>\n",
       "      <td>2</td>\n",
       "    </tr>\n",
       "  </tbody>\n",
       "</table>\n",
       "</div>"
      ],
      "text/plain": [
       "         source  target\n",
       "edge ID                \n",
       "0             0       1\n",
       "1             1       2"
      ]
     },
     "execution_count": 34,
     "metadata": {},
     "output_type": "execute_result"
    }
   ],
   "source": [
    "g1.get_edge_dataframe()"
   ]
  },
  {
   "cell_type": "code",
   "execution_count": 32,
   "metadata": {},
   "outputs": [
    {
     "data": {
      "image/svg+xml": [
       "<?xml version=\"1.0\" encoding=\"UTF-8\"?>\n",
       "<svg xmlns=\"http://www.w3.org/2000/svg\" xmlns:xlink=\"http://www.w3.org/1999/xlink\" width=\"600pt\" height=\"600pt\" viewBox=\"0 0 600 600\" version=\"1.1\">\n",
       "<g id=\"surface32\">\n",
       "<rect x=\"0\" y=\"0\" width=\"600\" height=\"600\" style=\"fill:rgb(100%,100%,100%);fill-opacity:1;stroke:none;\"/>\n",
       "<path style=\"fill:none;stroke-width:1;stroke-linecap:butt;stroke-linejoin:miter;stroke:rgb(26.666667%,26.666667%,26.666667%);stroke-opacity:1;stroke-miterlimit:10;\" d=\"M 270.273438 20 L 429.800781 73.511719 \"/>\n",
       "<path style=\"fill:none;stroke-width:1;stroke-linecap:butt;stroke-linejoin:miter;stroke:rgb(26.666667%,26.666667%,26.666667%);stroke-opacity:1;stroke-miterlimit:10;\" d=\"M 429.800781 73.511719 L 580 157.90625 \"/>\n",
       "<path style=\"fill:none;stroke-width:1;stroke-linecap:butt;stroke-linejoin:miter;stroke:rgb(26.666667%,26.666667%,26.666667%);stroke-opacity:1;stroke-miterlimit:10;\" d=\"M 521.058594 556.175781 L 355.105469 580 \"/>\n",
       "<path style=\"fill:none;stroke-width:1;stroke-linecap:butt;stroke-linejoin:miter;stroke:rgb(26.666667%,26.666667%,26.666667%);stroke-opacity:1;stroke-miterlimit:10;\" d=\"M 355.105469 580 L 188.9375 571.140625 \"/>\n",
       "<path style=\"fill-rule:nonzero;fill:rgb(100%,0%,0%);fill-opacity:1;stroke-width:1;stroke-linecap:butt;stroke-linejoin:miter;stroke:rgb(0%,0%,0%);stroke-opacity:1;stroke-miterlimit:10;\" d=\"M 280.273438 20 C 280.273438 25.523438 275.796875 30 270.273438 30 C 264.75 30 260.273438 25.523438 260.273438 20 C 260.273438 14.476562 264.75 10 270.273438 10 C 275.796875 10 280.273438 14.476562 280.273438 20 \"/>\n",
       "<path style=\"fill-rule:nonzero;fill:rgb(100%,0%,0%);fill-opacity:1;stroke-width:1;stroke-linecap:butt;stroke-linejoin:miter;stroke:rgb(0%,0%,0%);stroke-opacity:1;stroke-miterlimit:10;\" d=\"M 439.800781 73.511719 C 439.800781 79.035156 435.320312 83.511719 429.800781 83.511719 C 424.277344 83.511719 419.800781 79.035156 419.800781 73.511719 C 419.800781 67.988281 424.277344 63.511719 429.800781 63.511719 C 435.320312 63.511719 439.800781 67.988281 439.800781 73.511719 \"/>\n",
       "<path style=\"fill-rule:nonzero;fill:rgb(100%,0%,0%);fill-opacity:1;stroke-width:1;stroke-linecap:butt;stroke-linejoin:miter;stroke:rgb(0%,0%,0%);stroke-opacity:1;stroke-miterlimit:10;\" d=\"M 590 157.90625 C 590 163.429688 585.523438 167.90625 580 167.90625 C 574.476562 167.90625 570 163.429688 570 157.90625 C 570 152.382812 574.476562 147.90625 580 147.90625 C 585.523438 147.90625 590 152.382812 590 157.90625 \"/>\n",
       "<path style=\"fill-rule:nonzero;fill:rgb(100%,0%,0%);fill-opacity:1;stroke-width:1;stroke-linecap:butt;stroke-linejoin:miter;stroke:rgb(0%,0%,0%);stroke-opacity:1;stroke-miterlimit:10;\" d=\"M 531.058594 556.175781 C 531.058594 561.699219 526.582031 566.175781 521.058594 566.175781 C 515.535156 566.175781 511.058594 561.699219 511.058594 556.175781 C 511.058594 550.652344 515.535156 546.175781 521.058594 546.175781 C 526.582031 546.175781 531.058594 550.652344 531.058594 556.175781 \"/>\n",
       "<path style=\"fill-rule:nonzero;fill:rgb(100%,0%,0%);fill-opacity:1;stroke-width:1;stroke-linecap:butt;stroke-linejoin:miter;stroke:rgb(0%,0%,0%);stroke-opacity:1;stroke-miterlimit:10;\" d=\"M 365.105469 580 C 365.105469 585.523438 360.625 590 355.105469 590 C 349.582031 590 345.105469 585.523438 345.105469 580 C 345.105469 574.476562 349.582031 570 355.105469 570 C 360.625 570 365.105469 574.476562 365.105469 580 \"/>\n",
       "<path style=\"fill-rule:nonzero;fill:rgb(100%,0%,0%);fill-opacity:1;stroke-width:1;stroke-linecap:butt;stroke-linejoin:miter;stroke:rgb(0%,0%,0%);stroke-opacity:1;stroke-miterlimit:10;\" d=\"M 30 255.410156 C 30 260.933594 25.523438 265.410156 20 265.410156 C 14.476562 265.410156 10 260.933594 10 255.410156 C 10 249.886719 14.476562 245.410156 20 245.410156 C 25.523438 245.410156 30 249.886719 30 255.410156 \"/>\n",
       "<path style=\"fill-rule:nonzero;fill:rgb(100%,0%,0%);fill-opacity:1;stroke-width:1;stroke-linecap:butt;stroke-linejoin:miter;stroke:rgb(0%,0%,0%);stroke-opacity:1;stroke-miterlimit:10;\" d=\"M 198.9375 571.140625 C 198.9375 576.664062 194.460938 581.140625 188.9375 581.140625 C 183.417969 581.140625 178.9375 576.664062 178.9375 571.140625 C 178.9375 565.617188 183.417969 561.140625 188.9375 561.140625 C 194.460938 561.140625 198.9375 565.617188 198.9375 571.140625 \"/>\n",
       "</g>\n",
       "</svg>\n"
      ],
      "text/plain": [
       "<igraph.drawing.cairo.plot.CairoPlot at 0x7f3944fe0790>"
      ]
     },
     "execution_count": 32,
     "metadata": {
      "image/svg+xml": {
       "isolated": true
      }
     },
     "output_type": "execute_result"
    }
   ],
   "source": [
    "ig.plot(combined_graph)"
   ]
  },
  {
   "cell_type": "code",
   "execution_count": null,
   "metadata": {},
   "outputs": [],
   "source": []
  }
 ],
 "metadata": {
  "kernelspec": {
   "display_name": "venv",
   "language": "python",
   "name": "python3"
  },
  "language_info": {
   "codemirror_mode": {
    "name": "ipython",
    "version": 3
   },
   "file_extension": ".py",
   "mimetype": "text/x-python",
   "name": "python",
   "nbconvert_exporter": "python",
   "pygments_lexer": "ipython3",
   "version": "3.8.10"
  }
 },
 "nbformat": 4,
 "nbformat_minor": 2
}
