{
 "cells": [
  {
   "cell_type": "code",
   "execution_count": 1,
   "metadata": {},
   "outputs": [],
   "source": [
    "from loader import Loader\n",
    "from parcellation import Parcellation\n",
    "from measures.correlation import CorrelationBasedBrainNetwork\n",
    "from measures.covariance import CovarianceBasedBrainNetwork\n",
    "from measures.causality import GrangerCausalityBasedBrainNetwork\n",
    "from d3blocks import D3Blocks"
   ]
  },
  {
   "cell_type": "code",
   "execution_count": 2,
   "metadata": {},
   "outputs": [],
   "source": [
    "group = 'SCZ'\n",
    "modality = 'BOLD'\n",
    "task = 'task001_run001'\n",
    "kind = 'bold_mcf_brain'"
   ]
  },
  {
   "cell_type": "code",
   "execution_count": 4,
   "metadata": {},
   "outputs": [],
   "source": [
    "agent = Loader()\n",
    "data = agent.filter_data(group=group, modality=modality, task=task, kind=kind)\n",
    "agent = Parcellation(data)\n",
    "parcellation_results = agent.parcellate()"
   ]
  },
  {
   "cell_type": "code",
   "execution_count": 12,
   "metadata": {},
   "outputs": [
    {
     "data": {
      "text/plain": [
       "(400, 3)"
      ]
     },
     "execution_count": 12,
     "metadata": {},
     "output_type": "execute_result"
    }
   ],
   "source": [
    "parcellation_results['sub001'][1].shape"
   ]
  },
  {
   "cell_type": "code",
   "execution_count": 5,
   "metadata": {},
   "outputs": [
    {
     "data": {
      "text/html": [
       "<div>\n",
       "<style scoped>\n",
       "    .dataframe tbody tr th:only-of-type {\n",
       "        vertical-align: middle;\n",
       "    }\n",
       "\n",
       "    .dataframe tbody tr th {\n",
       "        vertical-align: top;\n",
       "    }\n",
       "\n",
       "    .dataframe thead th {\n",
       "        text-align: right;\n",
       "    }\n",
       "</style>\n",
       "<table border=\"1\" class=\"dataframe\">\n",
       "  <thead>\n",
       "    <tr style=\"text-align: right;\">\n",
       "      <th></th>\n",
       "      <th>Precentral_L</th>\n",
       "      <th>Precentral_R</th>\n",
       "      <th>Frontal_Sup_L</th>\n",
       "      <th>Frontal_Sup_R</th>\n",
       "      <th>Frontal_Sup_Orb_L</th>\n",
       "      <th>Frontal_Sup_Orb_R</th>\n",
       "      <th>Frontal_Mid_L</th>\n",
       "      <th>Frontal_Mid_R</th>\n",
       "      <th>Frontal_Mid_Orb_L</th>\n",
       "      <th>Frontal_Mid_Orb_R</th>\n",
       "      <th>...</th>\n",
       "      <th>Cerebelum_10_L</th>\n",
       "      <th>Cerebelum_10_R</th>\n",
       "      <th>Vermis_1_2</th>\n",
       "      <th>Vermis_3</th>\n",
       "      <th>Vermis_4_5</th>\n",
       "      <th>Vermis_6</th>\n",
       "      <th>Vermis_7</th>\n",
       "      <th>Vermis_8</th>\n",
       "      <th>Vermis_9</th>\n",
       "      <th>Vermis_10</th>\n",
       "    </tr>\n",
       "  </thead>\n",
       "  <tbody>\n",
       "    <tr>\n",
       "      <th>0</th>\n",
       "      <td>1.610692</td>\n",
       "      <td>2.291672</td>\n",
       "      <td>2.047640</td>\n",
       "      <td>2.428134</td>\n",
       "      <td>2.456172</td>\n",
       "      <td>1.880481</td>\n",
       "      <td>2.632550</td>\n",
       "      <td>2.917690</td>\n",
       "      <td>1.851532</td>\n",
       "      <td>1.657773</td>\n",
       "      <td>...</td>\n",
       "      <td>0.248966</td>\n",
       "      <td>0.362172</td>\n",
       "      <td>0.590110</td>\n",
       "      <td>-0.838515</td>\n",
       "      <td>-1.339095</td>\n",
       "      <td>-0.370157</td>\n",
       "      <td>1.121556</td>\n",
       "      <td>0.357268</td>\n",
       "      <td>0.824682</td>\n",
       "      <td>2.345670</td>\n",
       "    </tr>\n",
       "    <tr>\n",
       "      <th>1</th>\n",
       "      <td>0.294464</td>\n",
       "      <td>1.287140</td>\n",
       "      <td>0.816706</td>\n",
       "      <td>0.605587</td>\n",
       "      <td>1.661697</td>\n",
       "      <td>1.236485</td>\n",
       "      <td>0.373880</td>\n",
       "      <td>1.309953</td>\n",
       "      <td>1.025004</td>\n",
       "      <td>0.922508</td>\n",
       "      <td>...</td>\n",
       "      <td>-0.301395</td>\n",
       "      <td>-0.082882</td>\n",
       "      <td>0.458437</td>\n",
       "      <td>-1.129146</td>\n",
       "      <td>-0.967490</td>\n",
       "      <td>-0.436557</td>\n",
       "      <td>0.596637</td>\n",
       "      <td>0.006525</td>\n",
       "      <td>1.555604</td>\n",
       "      <td>1.403181</td>\n",
       "    </tr>\n",
       "    <tr>\n",
       "      <th>2</th>\n",
       "      <td>-0.775580</td>\n",
       "      <td>-0.029949</td>\n",
       "      <td>1.683969</td>\n",
       "      <td>1.678228</td>\n",
       "      <td>1.550253</td>\n",
       "      <td>0.882822</td>\n",
       "      <td>1.219480</td>\n",
       "      <td>2.628971</td>\n",
       "      <td>1.643769</td>\n",
       "      <td>0.761141</td>\n",
       "      <td>...</td>\n",
       "      <td>0.811507</td>\n",
       "      <td>-0.747500</td>\n",
       "      <td>-0.282949</td>\n",
       "      <td>-0.221228</td>\n",
       "      <td>-0.570342</td>\n",
       "      <td>-0.055012</td>\n",
       "      <td>1.279994</td>\n",
       "      <td>0.888802</td>\n",
       "      <td>2.135714</td>\n",
       "      <td>1.982446</td>\n",
       "    </tr>\n",
       "    <tr>\n",
       "      <th>3</th>\n",
       "      <td>-2.145952</td>\n",
       "      <td>-1.107416</td>\n",
       "      <td>1.653646</td>\n",
       "      <td>2.048225</td>\n",
       "      <td>1.959936</td>\n",
       "      <td>2.263871</td>\n",
       "      <td>0.945507</td>\n",
       "      <td>2.302218</td>\n",
       "      <td>1.672192</td>\n",
       "      <td>2.398243</td>\n",
       "      <td>...</td>\n",
       "      <td>2.087762</td>\n",
       "      <td>1.408344</td>\n",
       "      <td>0.447386</td>\n",
       "      <td>-0.778180</td>\n",
       "      <td>-1.020834</td>\n",
       "      <td>-1.160715</td>\n",
       "      <td>0.411783</td>\n",
       "      <td>0.759826</td>\n",
       "      <td>1.452666</td>\n",
       "      <td>1.984178</td>\n",
       "    </tr>\n",
       "    <tr>\n",
       "      <th>4</th>\n",
       "      <td>-2.268650</td>\n",
       "      <td>-1.341042</td>\n",
       "      <td>0.390538</td>\n",
       "      <td>1.610161</td>\n",
       "      <td>1.127515</td>\n",
       "      <td>1.523904</td>\n",
       "      <td>-1.051461</td>\n",
       "      <td>1.372379</td>\n",
       "      <td>1.720981</td>\n",
       "      <td>1.404419</td>\n",
       "      <td>...</td>\n",
       "      <td>1.685889</td>\n",
       "      <td>0.338406</td>\n",
       "      <td>0.000345</td>\n",
       "      <td>-0.195802</td>\n",
       "      <td>-0.587146</td>\n",
       "      <td>-1.298796</td>\n",
       "      <td>0.161469</td>\n",
       "      <td>0.329243</td>\n",
       "      <td>0.989565</td>\n",
       "      <td>1.087525</td>\n",
       "    </tr>\n",
       "    <tr>\n",
       "      <th>...</th>\n",
       "      <td>...</td>\n",
       "      <td>...</td>\n",
       "      <td>...</td>\n",
       "      <td>...</td>\n",
       "      <td>...</td>\n",
       "      <td>...</td>\n",
       "      <td>...</td>\n",
       "      <td>...</td>\n",
       "      <td>...</td>\n",
       "      <td>...</td>\n",
       "      <td>...</td>\n",
       "      <td>...</td>\n",
       "      <td>...</td>\n",
       "      <td>...</td>\n",
       "      <td>...</td>\n",
       "      <td>...</td>\n",
       "      <td>...</td>\n",
       "      <td>...</td>\n",
       "      <td>...</td>\n",
       "      <td>...</td>\n",
       "      <td>...</td>\n",
       "    </tr>\n",
       "    <tr>\n",
       "      <th>132</th>\n",
       "      <td>-1.058975</td>\n",
       "      <td>0.009665</td>\n",
       "      <td>-1.067523</td>\n",
       "      <td>-0.936444</td>\n",
       "      <td>1.441616</td>\n",
       "      <td>0.892968</td>\n",
       "      <td>-1.031290</td>\n",
       "      <td>-0.193885</td>\n",
       "      <td>1.048340</td>\n",
       "      <td>0.360092</td>\n",
       "      <td>...</td>\n",
       "      <td>0.650530</td>\n",
       "      <td>0.372040</td>\n",
       "      <td>-1.505828</td>\n",
       "      <td>-1.454001</td>\n",
       "      <td>-1.651613</td>\n",
       "      <td>-0.043203</td>\n",
       "      <td>0.249841</td>\n",
       "      <td>0.150994</td>\n",
       "      <td>0.119961</td>\n",
       "      <td>0.612489</td>\n",
       "    </tr>\n",
       "    <tr>\n",
       "      <th>133</th>\n",
       "      <td>-0.525604</td>\n",
       "      <td>-0.567742</td>\n",
       "      <td>-0.927656</td>\n",
       "      <td>-0.180007</td>\n",
       "      <td>1.256809</td>\n",
       "      <td>1.567834</td>\n",
       "      <td>-0.804678</td>\n",
       "      <td>0.075041</td>\n",
       "      <td>-0.014319</td>\n",
       "      <td>0.917540</td>\n",
       "      <td>...</td>\n",
       "      <td>0.916953</td>\n",
       "      <td>-0.073014</td>\n",
       "      <td>-1.048812</td>\n",
       "      <td>-2.055344</td>\n",
       "      <td>-1.400604</td>\n",
       "      <td>-0.243995</td>\n",
       "      <td>0.054455</td>\n",
       "      <td>0.305881</td>\n",
       "      <td>-0.676202</td>\n",
       "      <td>0.485880</td>\n",
       "    </tr>\n",
       "    <tr>\n",
       "      <th>134</th>\n",
       "      <td>-0.125008</td>\n",
       "      <td>-0.072093</td>\n",
       "      <td>-0.266895</td>\n",
       "      <td>0.075484</td>\n",
       "      <td>1.410989</td>\n",
       "      <td>0.712222</td>\n",
       "      <td>-0.673574</td>\n",
       "      <td>0.264556</td>\n",
       "      <td>0.217664</td>\n",
       "      <td>0.653907</td>\n",
       "      <td>...</td>\n",
       "      <td>0.797245</td>\n",
       "      <td>0.005489</td>\n",
       "      <td>-0.717944</td>\n",
       "      <td>-1.472967</td>\n",
       "      <td>-1.061888</td>\n",
       "      <td>-0.408984</td>\n",
       "      <td>-0.923593</td>\n",
       "      <td>-0.701287</td>\n",
       "      <td>-0.253210</td>\n",
       "      <td>0.377605</td>\n",
       "    </tr>\n",
       "    <tr>\n",
       "      <th>135</th>\n",
       "      <td>-0.260582</td>\n",
       "      <td>-0.837030</td>\n",
       "      <td>0.124085</td>\n",
       "      <td>0.111067</td>\n",
       "      <td>0.988386</td>\n",
       "      <td>1.077052</td>\n",
       "      <td>-0.314014</td>\n",
       "      <td>-0.324481</td>\n",
       "      <td>0.836429</td>\n",
       "      <td>1.387516</td>\n",
       "      <td>...</td>\n",
       "      <td>1.063668</td>\n",
       "      <td>0.168441</td>\n",
       "      <td>-0.954740</td>\n",
       "      <td>-0.809182</td>\n",
       "      <td>-0.609920</td>\n",
       "      <td>0.160719</td>\n",
       "      <td>-0.473649</td>\n",
       "      <td>-0.431086</td>\n",
       "      <td>-0.615754</td>\n",
       "      <td>0.461842</td>\n",
       "    </tr>\n",
       "    <tr>\n",
       "      <th>136</th>\n",
       "      <td>-0.179630</td>\n",
       "      <td>1.007724</td>\n",
       "      <td>0.380164</td>\n",
       "      <td>-0.148731</td>\n",
       "      <td>1.479022</td>\n",
       "      <td>0.789825</td>\n",
       "      <td>0.043468</td>\n",
       "      <td>-0.414809</td>\n",
       "      <td>1.304544</td>\n",
       "      <td>0.430628</td>\n",
       "      <td>...</td>\n",
       "      <td>-1.699459</td>\n",
       "      <td>-0.344157</td>\n",
       "      <td>0.322235</td>\n",
       "      <td>0.905164</td>\n",
       "      <td>1.712784</td>\n",
       "      <td>1.474035</td>\n",
       "      <td>0.635343</td>\n",
       "      <td>-1.340678</td>\n",
       "      <td>0.090037</td>\n",
       "      <td>0.399403</td>\n",
       "    </tr>\n",
       "  </tbody>\n",
       "</table>\n",
       "<p>137 rows × 116 columns</p>\n",
       "</div>"
      ],
      "text/plain": [
       "     Precentral_L  Precentral_R  Frontal_Sup_L  Frontal_Sup_R  \\\n",
       "0        1.610692      2.291672       2.047640       2.428134   \n",
       "1        0.294464      1.287140       0.816706       0.605587   \n",
       "2       -0.775580     -0.029949       1.683969       1.678228   \n",
       "3       -2.145952     -1.107416       1.653646       2.048225   \n",
       "4       -2.268650     -1.341042       0.390538       1.610161   \n",
       "..            ...           ...            ...            ...   \n",
       "132     -1.058975      0.009665      -1.067523      -0.936444   \n",
       "133     -0.525604     -0.567742      -0.927656      -0.180007   \n",
       "134     -0.125008     -0.072093      -0.266895       0.075484   \n",
       "135     -0.260582     -0.837030       0.124085       0.111067   \n",
       "136     -0.179630      1.007724       0.380164      -0.148731   \n",
       "\n",
       "     Frontal_Sup_Orb_L  Frontal_Sup_Orb_R  Frontal_Mid_L  Frontal_Mid_R  \\\n",
       "0             2.456172           1.880481       2.632550       2.917690   \n",
       "1             1.661697           1.236485       0.373880       1.309953   \n",
       "2             1.550253           0.882822       1.219480       2.628971   \n",
       "3             1.959936           2.263871       0.945507       2.302218   \n",
       "4             1.127515           1.523904      -1.051461       1.372379   \n",
       "..                 ...                ...            ...            ...   \n",
       "132           1.441616           0.892968      -1.031290      -0.193885   \n",
       "133           1.256809           1.567834      -0.804678       0.075041   \n",
       "134           1.410989           0.712222      -0.673574       0.264556   \n",
       "135           0.988386           1.077052      -0.314014      -0.324481   \n",
       "136           1.479022           0.789825       0.043468      -0.414809   \n",
       "\n",
       "     Frontal_Mid_Orb_L  Frontal_Mid_Orb_R  ...  Cerebelum_10_L  \\\n",
       "0             1.851532           1.657773  ...        0.248966   \n",
       "1             1.025004           0.922508  ...       -0.301395   \n",
       "2             1.643769           0.761141  ...        0.811507   \n",
       "3             1.672192           2.398243  ...        2.087762   \n",
       "4             1.720981           1.404419  ...        1.685889   \n",
       "..                 ...                ...  ...             ...   \n",
       "132           1.048340           0.360092  ...        0.650530   \n",
       "133          -0.014319           0.917540  ...        0.916953   \n",
       "134           0.217664           0.653907  ...        0.797245   \n",
       "135           0.836429           1.387516  ...        1.063668   \n",
       "136           1.304544           0.430628  ...       -1.699459   \n",
       "\n",
       "     Cerebelum_10_R  Vermis_1_2  Vermis_3  Vermis_4_5  Vermis_6  Vermis_7  \\\n",
       "0          0.362172    0.590110 -0.838515   -1.339095 -0.370157  1.121556   \n",
       "1         -0.082882    0.458437 -1.129146   -0.967490 -0.436557  0.596637   \n",
       "2         -0.747500   -0.282949 -0.221228   -0.570342 -0.055012  1.279994   \n",
       "3          1.408344    0.447386 -0.778180   -1.020834 -1.160715  0.411783   \n",
       "4          0.338406    0.000345 -0.195802   -0.587146 -1.298796  0.161469   \n",
       "..              ...         ...       ...         ...       ...       ...   \n",
       "132        0.372040   -1.505828 -1.454001   -1.651613 -0.043203  0.249841   \n",
       "133       -0.073014   -1.048812 -2.055344   -1.400604 -0.243995  0.054455   \n",
       "134        0.005489   -0.717944 -1.472967   -1.061888 -0.408984 -0.923593   \n",
       "135        0.168441   -0.954740 -0.809182   -0.609920  0.160719 -0.473649   \n",
       "136       -0.344157    0.322235  0.905164    1.712784  1.474035  0.635343   \n",
       "\n",
       "     Vermis_8  Vermis_9  Vermis_10  \n",
       "0    0.357268  0.824682   2.345670  \n",
       "1    0.006525  1.555604   1.403181  \n",
       "2    0.888802  2.135714   1.982446  \n",
       "3    0.759826  1.452666   1.984178  \n",
       "4    0.329243  0.989565   1.087525  \n",
       "..        ...       ...        ...  \n",
       "132  0.150994  0.119961   0.612489  \n",
       "133  0.305881 -0.676202   0.485880  \n",
       "134 -0.701287 -0.253210   0.377605  \n",
       "135 -0.431086 -0.615754   0.461842  \n",
       "136 -1.340678  0.090037   0.399403  \n",
       "\n",
       "[137 rows x 116 columns]"
      ]
     },
     "execution_count": 5,
     "metadata": {},
     "output_type": "execute_result"
    }
   ],
   "source": [
    "parcellation_results['sub001'][0]"
   ]
  },
  {
   "cell_type": "code",
   "execution_count": 6,
   "metadata": {},
   "outputs": [],
   "source": [
    "subject_data, atlas_coordinates = parcellation_results['sub001']"
   ]
  },
  {
   "cell_type": "code",
   "execution_count": 7,
   "metadata": {},
   "outputs": [],
   "source": [
    "correlation_matrix = CorrelationBasedBrainNetwork(subject_data, sparsify=True).generate_connectivity_matrix()"
   ]
  },
  {
   "cell_type": "code",
   "execution_count": 12,
   "metadata": {},
   "outputs": [],
   "source": []
  },
  {
   "cell_type": "code",
   "execution_count": 16,
   "metadata": {},
   "outputs": [],
   "source": [
    "from utils import *"
   ]
  },
  {
   "cell_type": "code",
   "execution_count": 18,
   "metadata": {},
   "outputs": [],
   "source": [
    "a = subject_data.diff().dropna()"
   ]
  },
  {
   "cell_type": "code",
   "execution_count": 21,
   "metadata": {},
   "outputs": [],
   "source": [
    "l = []"
   ]
  },
  {
   "cell_type": "code",
   "execution_count": 22,
   "metadata": {},
   "outputs": [],
   "source": [
    "for col in a.columns:\n",
    "    l.append(acf_look_back_period(a[col], 200))"
   ]
  },
  {
   "cell_type": "code",
   "execution_count": 24,
   "metadata": {},
   "outputs": [
    {
     "data": {
      "text/plain": [
       "{1, 2, 3, 4}"
      ]
     },
     "execution_count": 24,
     "metadata": {},
     "output_type": "execute_result"
    }
   ],
   "source": [
    "set(l)"
   ]
  },
  {
   "cell_type": "code",
   "execution_count": 35,
   "metadata": {},
   "outputs": [
    {
     "name": "stdout",
     "output_type": "stream",
     "text": [
      "The most significant lag is: []\n"
     ]
    }
   ],
   "source": [
    "from statsmodels.tsa.stattools import ccf\n",
    "import numpy as np\n",
    "\n",
    "def significant_lag(series1, series2, n_lags):\n",
    "    \"\"\"\n",
    "    Calculate the significant lag between two time series.\n",
    "\n",
    "    Parameters:\n",
    "    - series1: array-like, first time series\n",
    "    - series2: array-like, second time series\n",
    "    - n_lags: int, number of lags to consider\n",
    "\n",
    "    Returns:\n",
    "    - int, the lag with the most significant cross-correlation\n",
    "    \"\"\"\n",
    "    # Calculate the cross-correlation\n",
    "    cross_corr = ccf(series1, series2, adjusted=False)[:n_lags + 1]\n",
    "\n",
    "    # Calculate the confidence intervals (assuming normal distribution)\n",
    "    confidence_interval = 1.96 / np.sqrt(len(series1))\n",
    "    \n",
    "    # # Identify the lag where the cross-correlation is significant\n",
    "    significant_lags = np.where(np.abs(cross_corr) > confidence_interval)[0]\n",
    "    \n",
    "    return significant_lags\n",
    "    # if len(significant_lags) == 0:\n",
    "    #     return None  # No significant lags found\n",
    "    # else:\n",
    "    #     # Return the lag with the maximum absolute cross-correlation value\n",
    "    #     return significant_lags[np.argmax(np.abs(cross_corr[significant_lags]))]\n",
    "\n",
    "# Example usage:\n",
    "series1 = np.random.randn(100)\n",
    "series2 = np.random.randn(100)\n",
    "n_lags = 20\n",
    "result = significant_lag(series1, series2, n_lags)\n",
    "print(f'The most significant lag is: {result}')\n"
   ]
  },
  {
   "cell_type": "code",
   "execution_count": 38,
   "metadata": {},
   "outputs": [],
   "source": [
    "import numpy as np\n",
    "from scipy import signal\n",
    "x = [4,4,4,4,6,8,10,8,6,4,4,4,4,4,4,4,4,4,4,4,4,4,4]\n",
    "y = [4,4,4,4,4,4,4,4,4,4,4,4,4,4,4,4,6,8,10,8,6,4,4]\n",
    "correlation = signal.correlate(x-np.mean(x), y - np.mean(y), mode=\"full\")\n",
    "lags = signal.correlation_lags(len(x), len(y), mode=\"full\")\n",
    "lag = lags[np.argmax(abs(correlation))]"
   ]
  },
  {
   "cell_type": "code",
   "execution_count": 39,
   "metadata": {},
   "outputs": [
    {
     "data": {
      "text/plain": [
       "-12"
      ]
     },
     "execution_count": 39,
     "metadata": {},
     "output_type": "execute_result"
    }
   ],
   "source": [
    "lag"
   ]
  },
  {
   "cell_type": "code",
   "execution_count": 27,
   "metadata": {},
   "outputs": [
    {
     "data": {
      "text/plain": [
       "array([ 0.09378969, -0.16495624, -0.04671508,  0.07811189,  0.0282055 ,\n",
       "       -0.044986  ,  0.05651525,  0.01637561, -0.05916782, -0.0057262 ,\n",
       "        0.12287752, -0.04758561, -0.05381741,  0.11612945,  0.08596906,\n",
       "       -0.09811661,  0.08935193,  0.07551193, -0.01361263,  0.01297518,\n",
       "        0.06904262])"
      ]
     },
     "execution_count": 27,
     "metadata": {},
     "output_type": "execute_result"
    }
   ],
   "source": [
    "result"
   ]
  },
  {
   "cell_type": "code",
   "execution_count": 30,
   "metadata": {},
   "outputs": [],
   "source": [
    "from statsmodels.tsa.stattools import acf, pacf\n",
    "import numpy as np\n",
    "from scipy import stats\n",
    "\n",
    "\n",
    "def acf_look_back_period(series, n_lags):\n",
    "    acf_, confidence_interval = acf(series, nlags=n_lags, alpha=0.05)\n",
    "    centered_ci = confidence_interval - acf_[:, None]\n",
    "    outside = np.abs(acf_) >= centered_ci[:, 1]\n",
    "    # return np.argmax(~outside)\n",
    "    return acf_, confidence_interval"
   ]
  },
  {
   "cell_type": "code",
   "execution_count": 34,
   "metadata": {},
   "outputs": [
    {
     "data": {
      "text/plain": [
       "(array([ 1.        , -0.02626127, -0.02167804,  0.03737978,  0.09673725,\n",
       "        -0.04107087, -0.1386327 , -0.00749   , -0.08881574, -0.17494106,\n",
       "        -0.06963319]),\n",
       " array([[ 1.        ,  1.        ],\n",
       "        [-0.22225767,  0.16973513],\n",
       "        [-0.21780957,  0.17445348],\n",
       "        [-0.15884376,  0.23360332],\n",
       "        [-0.09975964,  0.29323414],\n",
       "        [-0.2393888 ,  0.15724707],\n",
       "        [-0.3372771 ,  0.06001171],\n",
       "        [-0.20981692,  0.19483691],\n",
       "        [-0.29115331,  0.11352182],\n",
       "        [-0.37877074,  0.02888862],\n",
       "        [-0.27915132,  0.13988494]]))"
      ]
     },
     "execution_count": 34,
     "metadata": {},
     "output_type": "execute_result"
    }
   ],
   "source": [
    "acf_look_back_period(series1, 10)"
   ]
  },
  {
   "cell_type": "code",
   "execution_count": 37,
   "metadata": {},
   "outputs": [
    {
     "data": {
      "text/plain": [
       "array([0.        , 0.1959964 , 0.19611745, 0.19714484, 0.20348822,\n",
       "       0.21093875, 0.2126866 , 0.21268663, 0.21949694, 0.21952631,\n",
       "       0.22009036])"
      ]
     },
     "execution_count": 37,
     "metadata": {},
     "output_type": "execute_result"
    }
   ],
   "source": [
    "(acf_look_back_period(series1, 10)[1] - acf_look_back_period(series1, 10)[0][:, None])[:, 1]"
   ]
  },
  {
   "cell_type": "code",
   "execution_count": null,
   "metadata": {},
   "outputs": [],
   "source": []
  },
  {
   "cell_type": "code",
   "execution_count": null,
   "metadata": {},
   "outputs": [],
   "source": []
  },
  {
   "cell_type": "code",
   "execution_count": 13,
   "metadata": {},
   "outputs": [],
   "source": [
    "graph = AssociationGraph(correlation_matrix, atlas_coordinates)\n",
    "graph.add_edges_from_matrix()"
   ]
  },
  {
   "cell_type": "code",
   "execution_count": 14,
   "metadata": {},
   "outputs": [
    {
     "data": {
      "text/plain": [
       "<Figure size 1500x1500 with 0 Axes>"
      ]
     },
     "metadata": {},
     "output_type": "display_data"
    }
   ],
   "source": [
    "graph.draw_chord()"
   ]
  },
  {
   "cell_type": "code",
   "execution_count": 15,
   "metadata": {},
   "outputs": [
    {
     "name": "stdout",
     "output_type": "stream",
     "text": [
      "Positive Matrix:\n",
      " [[1 0 3]\n",
      " [0 5 0]\n",
      " [7 0 9]]\n",
      "Negative Matrix:\n",
      " [[ 0 -2  0]\n",
      " [-4  0 -6]\n",
      " [ 0 -8  0]]\n",
      "Binary Matrix:\n",
      " [[0 0 1]\n",
      " [0 1 0]\n",
      " [1 0 1]]\n"
     ]
    }
   ],
   "source": [
    "import numpy as np\n",
    "\n",
    "class MatrixManipulator:\n",
    "    def __init__(self, matrix):\n",
    "        self.matrix = np.array(matrix)\n",
    "    \n",
    "    def separate_positive_negative(self):\n",
    "        positive_matrix = np.where(self.matrix > 0, self.matrix, 0)\n",
    "        negative_matrix = np.where(self.matrix < 0, self.matrix, 0)\n",
    "        return positive_matrix, negative_matrix\n",
    "    \n",
    "    def binarize(self, threshold):\n",
    "        binary_matrix = np.where(self.matrix >= threshold, 1, 0)\n",
    "        return binary_matrix"
   ]
  },
  {
   "cell_type": "code",
   "execution_count": null,
   "metadata": {},
   "outputs": [],
   "source": []
  }
 ],
 "metadata": {
  "kernelspec": {
   "display_name": "venv",
   "language": "python",
   "name": "python3"
  },
  "language_info": {
   "codemirror_mode": {
    "name": "ipython",
    "version": 3
   },
   "file_extension": ".py",
   "mimetype": "text/x-python",
   "name": "python",
   "nbconvert_exporter": "python",
   "pygments_lexer": "ipython3",
   "version": "3.12.2"
  }
 },
 "nbformat": 4,
 "nbformat_minor": 2
}
